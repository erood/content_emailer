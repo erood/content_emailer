{
 "cells": [
  {
   "cell_type": "code",
   "execution_count": 2,
   "metadata": {
    "collapsed": false
   },
   "outputs": [
    {
     "name": "stdout",
     "output_type": "stream",
     "text": [
      "Version 5.0.1 of praw is outdated. Version 5.2.0 was released Tuesday October 24, 2017.\n"
     ]
    }
   ],
   "source": [
    "#packages\n",
    "import pandas as pd\n",
    "import praw\n",
    "import operator\n",
    "import pandas as pd\n",
    "\n",
    "#set up praw - setup here: http://praw.readthedocs.io/en/latest/getting_started/quick_start.html\n",
    "reddit = praw.Reddit(client_id='my client id',\n",
    "                     client_secret='my client secret',\n",
    "                     user_agent='my user agent')\n",
    "\n",
    "#create list of subreddits to include\n",
    "s_list = \\\n",
    "[\n",
    "'funny',\n",
    "'todayilearned',\n",
    "'science',\n",
    "'worldnews',\n",
    "'gaming']"
   ]
  },
  {
   "cell_type": "code",
   "execution_count": 11,
   "metadata": {
    "collapsed": false
   },
   "outputs": [],
   "source": [
    "domains_sub = {}\n",
    "domains = {}\n",
    "domains_score = {}\n",
    "domains_url = {}\n",
    "\n",
    "for i in s_list:\n",
    "    \n",
    "    #--Aggregating Score--#\n",
    "    #pull in top submissions for the month for subreddit specified in list above\n",
    "    subreddit = reddit.subreddit(i)   \n",
    "    submissions = subreddit.top('month', limit=50)\n",
    "\n",
    "    #sum score across submissions\n",
    "    for s in submissions:\n",
    "        if s.id in domains_score.keys():\n",
    "            domains_score[s.id] += s.score\n",
    "        else:\n",
    "            domains_score[s.id] = s.score\n",
    "\n",
    "    df_score = pd.DataFrame.from_dict(domains_score, orient='index').reset_index()\n",
    "    df_score.columns = ['id','score']\n",
    "\n",
    "    #--Grab domain for given submission ID--#\n",
    "    subreddit = reddit.subreddit(i)   #input('enter subreddit name: /r/'))\n",
    "    submissions = subreddit.top('month', limit=50)\n",
    "\n",
    "\n",
    "    for s in submissions:\n",
    "        if s.id in domains.keys():\n",
    "            #(1) works for generating total score:\n",
    "            domains[s.id] = s.domain\n",
    "        else:\n",
    "            #(2)\n",
    "            #works for generating total score:\n",
    "            domains[s.id] = s.domain\n",
    "\n",
    "    df_domain = pd.DataFrame.from_dict(domains, orient='index').reset_index()\n",
    "    df_domain.columns = ['id','domain']\n",
    "\n",
    "\n",
    "    #--Grab subreddit for given submission ID--#\n",
    "    subreddit = reddit.subreddit(i)\n",
    "    submissions = subreddit.top('month', limit=50)\n",
    "\n",
    "\n",
    "    for s in submissions:\n",
    "        if s.id in domains_sub.keys():\n",
    "            #(1) works for generating total score:\n",
    "            domains_sub[s.id] = s.subreddit.display_name\n",
    "        else:\n",
    "            #(2)\n",
    "            #works for generating total score:\n",
    "            domains_sub[s.id] = s.subreddit.display_name\n",
    "\n",
    "\n",
    "df_subreddit = pd.DataFrame.from_dict(domains_sub, orient='index').reset_index()\n",
    "df_subreddit.columns = ['id','subreddit']"
   ]
  },
  {
   "cell_type": "code",
   "execution_count": 12,
   "metadata": {
    "collapsed": false
   },
   "outputs": [
    {
     "data": {
      "text/html": [
       "<div>\n",
       "<table border=\"1\" class=\"dataframe\">\n",
       "  <thead>\n",
       "    <tr style=\"text-align: right;\">\n",
       "      <th></th>\n",
       "      <th>id</th>\n",
       "      <th>subreddit</th>\n",
       "    </tr>\n",
       "  </thead>\n",
       "  <tbody>\n",
       "    <tr>\n",
       "      <th>0</th>\n",
       "      <td>78tulq</td>\n",
       "      <td>todayilearned</td>\n",
       "    </tr>\n",
       "    <tr>\n",
       "      <th>1</th>\n",
       "      <td>76bn5s</td>\n",
       "      <td>science</td>\n",
       "    </tr>\n",
       "    <tr>\n",
       "      <th>2</th>\n",
       "      <td>7871xy</td>\n",
       "      <td>science</td>\n",
       "    </tr>\n",
       "    <tr>\n",
       "      <th>3</th>\n",
       "      <td>77pnk6</td>\n",
       "      <td>science</td>\n",
       "    </tr>\n",
       "    <tr>\n",
       "      <th>4</th>\n",
       "      <td>75eydj</td>\n",
       "      <td>gaming</td>\n",
       "    </tr>\n",
       "  </tbody>\n",
       "</table>\n",
       "</div>"
      ],
      "text/plain": [
       "       id      subreddit\n",
       "0  78tulq  todayilearned\n",
       "1  76bn5s        science\n",
       "2  7871xy        science\n",
       "3  77pnk6        science\n",
       "4  75eydj         gaming"
      ]
     },
     "execution_count": 12,
     "metadata": {},
     "output_type": "execute_result"
    }
   ],
   "source": [
    "#Subreddit, post ID\n",
    "df_subreddit.head()"
   ]
  },
  {
   "cell_type": "code",
   "execution_count": 13,
   "metadata": {
    "collapsed": false
   },
   "outputs": [
    {
     "data": {
      "text/html": [
       "<div>\n",
       "<table border=\"1\" class=\"dataframe\">\n",
       "  <thead>\n",
       "    <tr style=\"text-align: right;\">\n",
       "      <th></th>\n",
       "      <th>id</th>\n",
       "      <th>score</th>\n",
       "    </tr>\n",
       "  </thead>\n",
       "  <tbody>\n",
       "    <tr>\n",
       "      <th>0</th>\n",
       "      <td>78tulq</td>\n",
       "      <td>42720</td>\n",
       "    </tr>\n",
       "    <tr>\n",
       "      <th>1</th>\n",
       "      <td>76bn5s</td>\n",
       "      <td>25021</td>\n",
       "    </tr>\n",
       "    <tr>\n",
       "      <th>2</th>\n",
       "      <td>7871xy</td>\n",
       "      <td>30648</td>\n",
       "    </tr>\n",
       "    <tr>\n",
       "      <th>3</th>\n",
       "      <td>77pnk6</td>\n",
       "      <td>13178</td>\n",
       "    </tr>\n",
       "    <tr>\n",
       "      <th>4</th>\n",
       "      <td>75eydj</td>\n",
       "      <td>64504</td>\n",
       "    </tr>\n",
       "  </tbody>\n",
       "</table>\n",
       "</div>"
      ],
      "text/plain": [
       "       id  score\n",
       "0  78tulq  42720\n",
       "1  76bn5s  25021\n",
       "2  7871xy  30648\n",
       "3  77pnk6  13178\n",
       "4  75eydj  64504"
      ]
     },
     "execution_count": 13,
     "metadata": {},
     "output_type": "execute_result"
    }
   ],
   "source": [
    "#Score, post ID\n",
    "df_score.head()"
   ]
  },
  {
   "cell_type": "code",
   "execution_count": 14,
   "metadata": {
    "collapsed": false
   },
   "outputs": [
    {
     "data": {
      "text/html": [
       "<div>\n",
       "<table border=\"1\" class=\"dataframe\">\n",
       "  <thead>\n",
       "    <tr style=\"text-align: right;\">\n",
       "      <th></th>\n",
       "      <th>id</th>\n",
       "      <th>domain</th>\n",
       "    </tr>\n",
       "  </thead>\n",
       "  <tbody>\n",
       "    <tr>\n",
       "      <th>0</th>\n",
       "      <td>78tulq</td>\n",
       "      <td>atlasobscura.com</td>\n",
       "    </tr>\n",
       "    <tr>\n",
       "      <th>1</th>\n",
       "      <td>76bn5s</td>\n",
       "      <td>ns.umich.edu</td>\n",
       "    </tr>\n",
       "    <tr>\n",
       "      <th>2</th>\n",
       "      <td>7871xy</td>\n",
       "      <td>acsh.org</td>\n",
       "    </tr>\n",
       "    <tr>\n",
       "      <th>3</th>\n",
       "      <td>77pnk6</td>\n",
       "      <td>jech.bmj.com</td>\n",
       "    </tr>\n",
       "    <tr>\n",
       "      <th>4</th>\n",
       "      <td>75eydj</td>\n",
       "      <td>i.redd.it</td>\n",
       "    </tr>\n",
       "  </tbody>\n",
       "</table>\n",
       "</div>"
      ],
      "text/plain": [
       "       id            domain\n",
       "0  78tulq  atlasobscura.com\n",
       "1  76bn5s      ns.umich.edu\n",
       "2  7871xy          acsh.org\n",
       "3  77pnk6      jech.bmj.com\n",
       "4  75eydj         i.redd.it"
      ]
     },
     "execution_count": 14,
     "metadata": {},
     "output_type": "execute_result"
    }
   ],
   "source": [
    "#Domain (URL), post ID\n",
    "df_domain.head()"
   ]
  },
  {
   "cell_type": "code",
   "execution_count": 10,
   "metadata": {
    "collapsed": false
   },
   "outputs": [
    {
     "data": {
      "text/html": [
       "<div>\n",
       "<table border=\"1\" class=\"dataframe\">\n",
       "  <thead>\n",
       "    <tr style=\"text-align: right;\">\n",
       "      <th></th>\n",
       "      <th>id</th>\n",
       "      <th>subreddit</th>\n",
       "      <th>score</th>\n",
       "      <th>domain</th>\n",
       "      <th>url</th>\n",
       "    </tr>\n",
       "  </thead>\n",
       "  <tbody>\n",
       "    <tr>\n",
       "      <th>0</th>\n",
       "      <td>78tulq</td>\n",
       "      <td>todayilearned</td>\n",
       "      <td>42729</td>\n",
       "      <td>atlasobscura.com</td>\n",
       "      <td>www.reddit.com/78tulq</td>\n",
       "    </tr>\n",
       "    <tr>\n",
       "      <th>1</th>\n",
       "      <td>76bn5s</td>\n",
       "      <td>science</td>\n",
       "      <td>25024</td>\n",
       "      <td>ns.umich.edu</td>\n",
       "      <td>www.reddit.com/76bn5s</td>\n",
       "    </tr>\n",
       "    <tr>\n",
       "      <th>2</th>\n",
       "      <td>7871xy</td>\n",
       "      <td>science</td>\n",
       "      <td>30642</td>\n",
       "      <td>acsh.org</td>\n",
       "      <td>www.reddit.com/7871xy</td>\n",
       "    </tr>\n",
       "    <tr>\n",
       "      <th>3</th>\n",
       "      <td>77pnk6</td>\n",
       "      <td>science</td>\n",
       "      <td>13176</td>\n",
       "      <td>jech.bmj.com</td>\n",
       "      <td>www.reddit.com/77pnk6</td>\n",
       "    </tr>\n",
       "    <tr>\n",
       "      <th>4</th>\n",
       "      <td>75eydj</td>\n",
       "      <td>gaming</td>\n",
       "      <td>64510</td>\n",
       "      <td>i.redd.it</td>\n",
       "      <td>www.reddit.com/75eydj</td>\n",
       "    </tr>\n",
       "  </tbody>\n",
       "</table>\n",
       "</div>"
      ],
      "text/plain": [
       "       id      subreddit  score            domain                    url\n",
       "0  78tulq  todayilearned  42729  atlasobscura.com  www.reddit.com/78tulq\n",
       "1  76bn5s        science  25024      ns.umich.edu  www.reddit.com/76bn5s\n",
       "2  7871xy        science  30642          acsh.org  www.reddit.com/7871xy\n",
       "3  77pnk6        science  13176      jech.bmj.com  www.reddit.com/77pnk6\n",
       "4  75eydj         gaming  64510         i.redd.it  www.reddit.com/75eydj"
      ]
     },
     "execution_count": 10,
     "metadata": {},
     "output_type": "execute_result"
    }
   ],
   "source": [
    "#merge the three tables together, using submission ID as primary key\n",
    "df_sub_score = df_subreddit.merge(df_score, how='left', on=\"id\")\n",
    "df_final = df_sub_score.merge(df_domain, how='left', on='id')\n",
    "\n",
    "# Add in submission URL using the 'id' \n",
    "df_final['url'] = ['www.reddit.com/']+df_final['id'].astype(str) \n",
    "\n",
    "df_final.head()"
   ]
  },
  {
   "cell_type": "code",
   "execution_count": null,
   "metadata": {
    "collapsed": true
   },
   "outputs": [],
   "source": [
    "reddit = praw.Reddit(client_id='D7tXhzmCZKD1Ig',\n",
    "                     client_secret='a8Cs1yp7GUakwc-Hzkd1twMRRcU',\n",
    "                     user_agent='Script for top domains posted on reddit')"
   ]
  }
 ],
 "metadata": {
  "anaconda-cloud": {},
  "kernelspec": {
   "display_name": "Python [conda root]",
   "language": "python",
   "name": "conda-root-py"
  },
  "language_info": {
   "codemirror_mode": {
    "name": "ipython",
    "version": 3
   },
   "file_extension": ".py",
   "mimetype": "text/x-python",
   "name": "python",
   "nbconvert_exporter": "python",
   "pygments_lexer": "ipython3",
   "version": "3.5.2"
  }
 },
 "nbformat": 4,
 "nbformat_minor": 1
}
