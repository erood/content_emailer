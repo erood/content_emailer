{
 "cells": [
  {
   "cell_type": "code",
   "execution_count": 3,
   "metadata": {
    "collapsed": false
   },
   "outputs": [],
   "source": [
    "url = []\n",
    "with open('/Users/erikrood/desktop/ocr.txt','r') as f:\n",
    "    for line in f:\n",
    "        for word in line.split():\n",
    "           url.append(word)\n",
    "\n",
    "str1 = list('+'.join(url))\n",
    "str2 = ''.join(str(e) for e in str1)\n",
    "str3= \"https://www.google.com/search?q=\"+str2"
   ]
  },
  {
   "cell_type": "code",
   "execution_count": 11,
   "metadata": {
    "collapsed": true
   },
   "outputs": [],
   "source": [
    "## separate launch.py"
   ]
  },
  {
   "cell_type": "code",
   "execution_count": 15,
   "metadata": {
    "collapsed": true
   },
   "outputs": [],
   "source": [
    "import webbrowser\n",
    "\n",
    "#url = 'http://docs.python.org/'\n",
    "\n",
    "#just question\n",
    "url = []\n",
    "with open('/Users/erikrood/desktop/ocr.txt','r') as f:\n",
    "    for line in f:\n",
    "        for word in line.split():\n",
    "           url.append(word)\n",
    "\n",
    "with open('/Users/erikrood/desktop/a1.txt','r') as f:\n",
    "    for line in f:\n",
    "        for word in line.split():\n",
    "           url.append(word)\n",
    "\n",
    "str1 = list('+'.join(url))\n",
    "str2 = ''.join(str(e) for e in str1)\n",
    "str3= \"https://www.google.com/search?q=\"+str2"
   ]
  },
  {
   "cell_type": "code",
   "execution_count": 17,
   "metadata": {
    "collapsed": true
   },
   "outputs": [],
   "source": []
  },
  {
   "cell_type": "code",
   "execution_count": null,
   "metadata": {
    "collapsed": true
   },
   "outputs": [],
   "source": []
  }
 ],
 "metadata": {
  "anaconda-cloud": {},
  "kernelspec": {
   "display_name": "Python [conda root]",
   "language": "python",
   "name": "conda-root-py"
  },
  "language_info": {
   "codemirror_mode": {
    "name": "ipython",
    "version": 3
   },
   "file_extension": ".py",
   "mimetype": "text/x-python",
   "name": "python",
   "nbconvert_exporter": "python",
   "pygments_lexer": "ipython3",
   "version": "3.5.4"
  }
 },
 "nbformat": 4,
 "nbformat_minor": 1
}
